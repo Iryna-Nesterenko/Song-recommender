{
 "cells": [
  {
   "cell_type": "code",
   "execution_count": 3,
   "id": "1364d2aa",
   "metadata": {},
   "outputs": [],
   "source": [
    "from bs4 import BeautifulSoup\n",
    "import requests\n",
    "import pandas as pd\n",
    "import numpy as np\n",
    "import random\n",
    "import difflib"
   ]
  },
  {
   "cell_type": "code",
   "execution_count": 4,
   "id": "79d285e3",
   "metadata": {},
   "outputs": [
    {
     "data": {
      "text/html": [
       "<div>\n",
       "<style scoped>\n",
       "    .dataframe tbody tr th:only-of-type {\n",
       "        vertical-align: middle;\n",
       "    }\n",
       "\n",
       "    .dataframe tbody tr th {\n",
       "        vertical-align: top;\n",
       "    }\n",
       "\n",
       "    .dataframe thead th {\n",
       "        text-align: right;\n",
       "    }\n",
       "</style>\n",
       "<table border=\"1\" class=\"dataframe\">\n",
       "  <thead>\n",
       "    <tr style=\"text-align: right;\">\n",
       "      <th></th>\n",
       "      <th>Unnamed: 0</th>\n",
       "      <th>singers</th>\n",
       "      <th>songs</th>\n",
       "    </tr>\n",
       "  </thead>\n",
       "  <tbody>\n",
       "    <tr>\n",
       "      <th>0</th>\n",
       "      <td>0</td>\n",
       "      <td>Harry Styles</td>\n",
       "      <td>as it was</td>\n",
       "    </tr>\n",
       "    <tr>\n",
       "      <th>1</th>\n",
       "      <td>1</td>\n",
       "      <td>Steve Lacy</td>\n",
       "      <td>bad habit</td>\n",
       "    </tr>\n",
       "    <tr>\n",
       "      <th>2</th>\n",
       "      <td>2</td>\n",
       "      <td>Harry Styles</td>\n",
       "      <td>late night talking</td>\n",
       "    </tr>\n",
       "    <tr>\n",
       "      <th>3</th>\n",
       "      <td>3</td>\n",
       "      <td>Nicky Youre &amp; dazy</td>\n",
       "      <td>sunroof</td>\n",
       "    </tr>\n",
       "    <tr>\n",
       "      <th>4</th>\n",
       "      <td>4</td>\n",
       "      <td>Lizzo</td>\n",
       "      <td>about damn time</td>\n",
       "    </tr>\n",
       "    <tr>\n",
       "      <th>...</th>\n",
       "      <td>...</td>\n",
       "      <td>...</td>\n",
       "      <td>...</td>\n",
       "    </tr>\n",
       "    <tr>\n",
       "      <th>95</th>\n",
       "      <td>95</td>\n",
       "      <td>Morgan Wallen</td>\n",
       "      <td>thought you should know</td>\n",
       "    </tr>\n",
       "    <tr>\n",
       "      <th>96</th>\n",
       "      <td>96</td>\n",
       "      <td>Luke Bryan</td>\n",
       "      <td>country on</td>\n",
       "    </tr>\n",
       "    <tr>\n",
       "      <th>97</th>\n",
       "      <td>97</td>\n",
       "      <td>Steve Lacy</td>\n",
       "      <td>static</td>\n",
       "    </tr>\n",
       "    <tr>\n",
       "      <th>98</th>\n",
       "      <td>98</td>\n",
       "      <td>Armani White</td>\n",
       "      <td>billie eilish.</td>\n",
       "    </tr>\n",
       "    <tr>\n",
       "      <th>99</th>\n",
       "      <td>99</td>\n",
       "      <td>Romeo Santos &amp; Justin Timberlake</td>\n",
       "      <td>sin fin</td>\n",
       "    </tr>\n",
       "  </tbody>\n",
       "</table>\n",
       "<p>100 rows × 3 columns</p>\n",
       "</div>"
      ],
      "text/plain": [
       "    Unnamed: 0                           singers                    songs\n",
       "0            0                      Harry Styles                as it was\n",
       "1            1                        Steve Lacy                bad habit\n",
       "2            2                      Harry Styles       late night talking\n",
       "3            3                Nicky Youre & dazy                  sunroof\n",
       "4            4                             Lizzo          about damn time\n",
       "..         ...                               ...                      ...\n",
       "95          95                     Morgan Wallen  thought you should know\n",
       "96          96                        Luke Bryan               country on\n",
       "97          97                        Steve Lacy                   static\n",
       "98          98                      Armani White           billie eilish.\n",
       "99          99  Romeo Santos & Justin Timberlake                  sin fin\n",
       "\n",
       "[100 rows x 3 columns]"
      ]
     },
     "execution_count": 4,
     "metadata": {},
     "output_type": "execute_result"
    }
   ],
   "source": [
    "billboard = pd.read_csv(\"/Users/irenewalken/Documents/GitHub/Ironhack_Labs/Spotify_web_scraped.csv\")\n",
    "billboard"
   ]
  },
  {
   "cell_type": "code",
   "execution_count": 5,
   "id": "16d35249",
   "metadata": {},
   "outputs": [
    {
     "data": {
      "text/html": [
       "<div>\n",
       "<style scoped>\n",
       "    .dataframe tbody tr th:only-of-type {\n",
       "        vertical-align: middle;\n",
       "    }\n",
       "\n",
       "    .dataframe tbody tr th {\n",
       "        vertical-align: top;\n",
       "    }\n",
       "\n",
       "    .dataframe thead th {\n",
       "        text-align: right;\n",
       "    }\n",
       "</style>\n",
       "<table border=\"1\" class=\"dataframe\">\n",
       "  <thead>\n",
       "    <tr style=\"text-align: right;\">\n",
       "      <th></th>\n",
       "      <th>singers</th>\n",
       "      <th>songs</th>\n",
       "    </tr>\n",
       "  </thead>\n",
       "  <tbody>\n",
       "    <tr>\n",
       "      <th>0</th>\n",
       "      <td>Harry Styles</td>\n",
       "      <td>as it was</td>\n",
       "    </tr>\n",
       "    <tr>\n",
       "      <th>1</th>\n",
       "      <td>Steve Lacy</td>\n",
       "      <td>bad habit</td>\n",
       "    </tr>\n",
       "    <tr>\n",
       "      <th>2</th>\n",
       "      <td>Harry Styles</td>\n",
       "      <td>late night talking</td>\n",
       "    </tr>\n",
       "    <tr>\n",
       "      <th>3</th>\n",
       "      <td>Nicky Youre &amp; dazy</td>\n",
       "      <td>sunroof</td>\n",
       "    </tr>\n",
       "    <tr>\n",
       "      <th>4</th>\n",
       "      <td>Lizzo</td>\n",
       "      <td>about damn time</td>\n",
       "    </tr>\n",
       "    <tr>\n",
       "      <th>...</th>\n",
       "      <td>...</td>\n",
       "      <td>...</td>\n",
       "    </tr>\n",
       "    <tr>\n",
       "      <th>95</th>\n",
       "      <td>Morgan Wallen</td>\n",
       "      <td>thought you should know</td>\n",
       "    </tr>\n",
       "    <tr>\n",
       "      <th>96</th>\n",
       "      <td>Luke Bryan</td>\n",
       "      <td>country on</td>\n",
       "    </tr>\n",
       "    <tr>\n",
       "      <th>97</th>\n",
       "      <td>Steve Lacy</td>\n",
       "      <td>static</td>\n",
       "    </tr>\n",
       "    <tr>\n",
       "      <th>98</th>\n",
       "      <td>Armani White</td>\n",
       "      <td>billie eilish.</td>\n",
       "    </tr>\n",
       "    <tr>\n",
       "      <th>99</th>\n",
       "      <td>Romeo Santos &amp; Justin Timberlake</td>\n",
       "      <td>sin fin</td>\n",
       "    </tr>\n",
       "  </tbody>\n",
       "</table>\n",
       "<p>100 rows × 2 columns</p>\n",
       "</div>"
      ],
      "text/plain": [
       "                             singers                    songs\n",
       "0                       Harry Styles                as it was\n",
       "1                         Steve Lacy                bad habit\n",
       "2                       Harry Styles       late night talking\n",
       "3                 Nicky Youre & dazy                  sunroof\n",
       "4                              Lizzo          about damn time\n",
       "..                               ...                      ...\n",
       "95                     Morgan Wallen  thought you should know\n",
       "96                        Luke Bryan               country on\n",
       "97                        Steve Lacy                   static\n",
       "98                      Armani White           billie eilish.\n",
       "99  Romeo Santos & Justin Timberlake                  sin fin\n",
       "\n",
       "[100 rows x 2 columns]"
      ]
     },
     "execution_count": 5,
     "metadata": {},
     "output_type": "execute_result"
    }
   ],
   "source": [
    "billboard = billboard.drop(labels='Unnamed: 0', axis=1)\n",
    "billboard"
   ]
  },
  {
   "cell_type": "code",
   "execution_count": 6,
   "id": "ba71ae17",
   "metadata": {},
   "outputs": [
    {
     "data": {
      "text/html": [
       "<div>\n",
       "<style scoped>\n",
       "    .dataframe tbody tr th:only-of-type {\n",
       "        vertical-align: middle;\n",
       "    }\n",
       "\n",
       "    .dataframe tbody tr th {\n",
       "        vertical-align: top;\n",
       "    }\n",
       "\n",
       "    .dataframe thead th {\n",
       "        text-align: right;\n",
       "    }\n",
       "</style>\n",
       "<table border=\"1\" class=\"dataframe\">\n",
       "  <thead>\n",
       "    <tr style=\"text-align: right;\">\n",
       "      <th></th>\n",
       "      <th>singers</th>\n",
       "      <th>songs</th>\n",
       "    </tr>\n",
       "  </thead>\n",
       "  <tbody>\n",
       "    <tr>\n",
       "      <th>97</th>\n",
       "      <td>Steve Lacy</td>\n",
       "      <td>static</td>\n",
       "    </tr>\n",
       "  </tbody>\n",
       "</table>\n",
       "</div>"
      ],
      "text/plain": [
       "       singers   songs\n",
       "97  Steve Lacy  static"
      ]
     },
     "execution_count": 6,
     "metadata": {},
     "output_type": "execute_result"
    }
   ],
   "source": [
    "billboard.loc[billboard['songs']=='static']"
   ]
  },
  {
   "cell_type": "code",
   "execution_count": null,
   "id": "dc4fe309",
   "metadata": {},
   "outputs": [],
   "source": []
  },
  {
   "cell_type": "code",
   "execution_count": 7,
   "id": "adf7268b",
   "metadata": {},
   "outputs": [],
   "source": [
    "def random_music_func(x):\n",
    "    choosen = random.choice(billboard['songs'].values)\n",
    "    return choosen"
   ]
  },
  {
   "cell_type": "code",
   "execution_count": 14,
   "id": "1fe1bd5a",
   "metadata": {},
   "outputs": [
    {
     "data": {
      "text/plain": [
       "['static', 'stay', 'tarot']"
      ]
     },
     "execution_count": 14,
     "metadata": {},
     "output_type": "execute_result"
    }
   ],
   "source": [
    "difflib.get_close_matches(song_name, billboard['songs'])"
   ]
  },
  {
   "cell_type": "code",
   "execution_count": 22,
   "id": "dc8aff60",
   "metadata": {},
   "outputs": [
    {
     "name": "stdout",
     "output_type": "stream",
     "text": [
      "Pic your song: stati\n",
      "Do try to find  static ?\n",
      "yes\n",
      "Nice choice, we recommend you to try another song: SLEAZY FLOW\n"
     ]
    }
   ],
   "source": [
    "while 1:\n",
    "    song_name = str(input(\"Pic your song: \")).lower()\n",
    "    \n",
    "    if song_name in billboard['songs'].values:\n",
    "        n = song_name\n",
    "        #new_list = [el for el in billboard['songs'].values if el != n]\n",
    "        print(song_name.upper() +\" is in the Bilboard hot list\")\n",
    "        print(\"Nice choice, we recommend you to try another song: \"+random_music_func(song_name))#new_list ).upper())\n",
    "        break\n",
    "    elif difflib.get_close_matches(song_name, billboard['songs']):\n",
    "        print(\"Do try to find \", difflib.get_close_matches(song_name, billboard['songs'])[0]+ \" ?\")\n",
    "        song_name2 = input()\n",
    "        if song_name2 == \"yes\":\n",
    "            print(\"Nice choice, we recommend you to try another song: \"+random_music_func(song_name).upper())\n",
    "            break\n",
    "        elif song_name2 == \"no\":\n",
    "            print(\"Unfortunately, the song is not in the hot list!\")\n",
    "            break\n",
    "        else:\n",
    "            print(\"Unfortunately, the song is not in the hot list!\")\n",
    "            break  \n",
    "    else:\n",
    "        print(\"Unfortunately, the song is not in the hot list!\")\n",
    "        break\n",
    "        "
   ]
  },
  {
   "cell_type": "code",
   "execution_count": null,
   "id": "7970bc22",
   "metadata": {},
   "outputs": [],
   "source": []
  }
 ],
 "metadata": {
  "kernelspec": {
   "display_name": "Python 3 (ipykernel)",
   "language": "python",
   "name": "python3"
  },
  "language_info": {
   "codemirror_mode": {
    "name": "ipython",
    "version": 3
   },
   "file_extension": ".py",
   "mimetype": "text/x-python",
   "name": "python",
   "nbconvert_exporter": "python",
   "pygments_lexer": "ipython3",
   "version": "3.9.12"
  },
  "toc": {
   "base_numbering": 1,
   "nav_menu": {},
   "number_sections": true,
   "sideBar": true,
   "skip_h1_title": false,
   "title_cell": "Table of Contents",
   "title_sidebar": "Contents",
   "toc_cell": false,
   "toc_position": {},
   "toc_section_display": true,
   "toc_window_display": false
  }
 },
 "nbformat": 4,
 "nbformat_minor": 5
}
