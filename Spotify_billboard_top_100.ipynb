{
 "cells": [
  {
   "cell_type": "code",
   "execution_count": 1,
   "id": "96029de1",
   "metadata": {},
   "outputs": [],
   "source": [
    "import config"
   ]
  },
  {
   "cell_type": "code",
   "execution_count": 2,
   "id": "e73a4327",
   "metadata": {},
   "outputs": [
    {
     "data": {
      "text/plain": [
       "'6aac860e6bb3487db66eb2445cc19bfc'"
      ]
     },
     "execution_count": 2,
     "metadata": {},
     "output_type": "execute_result"
    }
   ],
   "source": [
    "config.client_id"
   ]
  },
  {
   "cell_type": "code",
   "execution_count": 21,
   "id": "0867787f",
   "metadata": {},
   "outputs": [],
   "source": [
    "import spotipy\n",
    "import pprint\n",
    "import pandas as pd"
   ]
  },
  {
   "cell_type": "code",
   "execution_count": 6,
   "id": "377df582",
   "metadata": {},
   "outputs": [],
   "source": [
    "import spotipy\n",
    "import json\n",
    "from spotipy.oauth2 import SpotifyClientCredentials\n",
    "\n",
    "sp = spotipy.Spotify(auth_manager=SpotifyClientCredentials(client_id= config.client_id,\n",
    "                                                           client_secret= config.client_secret))\n",
    "\n",
    "\n",
    "results = sp.search(q=\"У мене немає дому\",limit=1,market=\"GB\")\n",
    "track_id=track_id=results[\"tracks\"][\"items\"][0][\"id\"]\n"
   ]
  },
  {
   "cell_type": "code",
   "execution_count": 7,
   "id": "1a1a0dbb",
   "metadata": {},
   "outputs": [
    {
     "data": {
      "text/html": [
       "\n",
       "        <iframe\n",
       "            width=\"320\"\n",
       "            height=\"80\"\n",
       "            src=\"https://open.spotify.com/embed/track/4GC6tlXcAsyp4pNrlyo1pb?frameborder=0&allowtransparency=true&allow=encrypted-media\"\n",
       "            frameborder=\"0\"\n",
       "            allowfullscreen\n",
       "            \n",
       "        ></iframe>\n",
       "        "
      ],
      "text/plain": [
       "<IPython.lib.display.IFrame at 0x7fbd89e32b50>"
      ]
     },
     "execution_count": 7,
     "metadata": {},
     "output_type": "execute_result"
    }
   ],
   "source": [
    "from IPython.display import IFrame\n",
    "\n",
    "#track_id = \"2KH16WveTQWT6KOG9Rg6e2\"\n",
    "#track_id= 'spotify:track:3hgl7EQwTutSm6PESsB7gZ'\n",
    "IFrame(src=\"https://open.spotify.com/embed/track/\"+track_id,\n",
    "       width=\"320\",\n",
    "       height=\"80\",\n",
    "       frameborder=\"0\",\n",
    "       allowtransparency=\"true\",\n",
    "       allow=\"encrypted-media\",\n",
    "      )"
   ]
  },
  {
   "cell_type": "code",
   "execution_count": 10,
   "id": "6d670644",
   "metadata": {},
   "outputs": [],
   "source": [
    "def play_song(track_id):\n",
    "    return IFrame(src=\"https://open.spotify.com/embed/track/\"+track_id,\n",
    "       width=\"320\",\n",
    "       height=\"80\",\n",
    "       frameborder=\"0\",\n",
    "       allowtransparency=\"true\",\n",
    "       allow=\"encrypted-media\",\n",
    "      )"
   ]
  },
  {
   "cell_type": "code",
   "execution_count": 8,
   "id": "040f87db",
   "metadata": {},
   "outputs": [],
   "source": [
    "playlist_billboard = sp.user_playlist_tracks(\"spotify\", \"6UeSakyzhiEt4NB3UAd6NQ\",market=\"GB\")"
   ]
  },
  {
   "cell_type": "code",
   "execution_count": 11,
   "id": "9d0590dd",
   "metadata": {},
   "outputs": [
    {
     "data": {
      "text/html": [
       "\n",
       "        <iframe\n",
       "            width=\"320\"\n",
       "            height=\"80\"\n",
       "            src=\"https://open.spotify.com/embed/track/4LRPiXqCikLlN15c3yImP7?frameborder=0&allowtransparency=true&allow=encrypted-media\"\n",
       "            frameborder=\"0\"\n",
       "            allowfullscreen\n",
       "            \n",
       "        ></iframe>\n",
       "        "
      ],
      "text/plain": [
       "<IPython.lib.display.IFrame at 0x7fbd8a046c70>"
      ]
     },
     "execution_count": 11,
     "metadata": {},
     "output_type": "execute_result"
    }
   ],
   "source": [
    "play_song(playlist_billboard[\"items\"][0][\"track\"][\"id\"])"
   ]
  },
  {
   "cell_type": "code",
   "execution_count": 12,
   "id": "7db839ae",
   "metadata": {},
   "outputs": [
    {
     "name": "stdout",
     "output_type": "stream",
     "text": [
      "['href', 'items', 'limit', 'next', 'offset', 'previous', 'total']\n",
      "Total number of songs in the playlist:  100\n"
     ]
    },
    {
     "data": {
      "text/plain": [
       "100"
      ]
     },
     "execution_count": 12,
     "metadata": {},
     "output_type": "execute_result"
    }
   ],
   "source": [
    "print(list(playlist_billboard.keys())) # Let's look at items and total:\n",
    "print(\"Total number of songs in the playlist: \",playlist_billboard[\"total\"]) #  Let's check items:\n",
    "len(playlist_billboard[\"items\"]) # It is limited to 100 tracks, we will have to fix it:"
   ]
  },
  {
   "cell_type": "code",
   "execution_count": 15,
   "id": "f8f43834",
   "metadata": {},
   "outputs": [],
   "source": [
    "def get_playlist_tracks(username, playlist_id):\n",
    "    results = sp.user_playlist_tracks(username,playlist_id,market=\"GB\")\n",
    "    tracks = results['items']\n",
    "    while results['next']:\n",
    "        results = sp.next(results)\n",
    "        tracks.extend(results['items'])\n",
    "    return tracks"
   ]
  },
  {
   "cell_type": "code",
   "execution_count": 16,
   "id": "59db80af",
   "metadata": {},
   "outputs": [],
   "source": [
    "tracks_billboard=get_playlist_tracks(\"spotify\", \"6UeSakyzhiEt4NB3UAd6NQ\")"
   ]
  },
  {
   "cell_type": "code",
   "execution_count": 17,
   "id": "eee5a581",
   "metadata": {},
   "outputs": [],
   "source": [
    "list_of_audio_features=[]\n",
    "for item in range(0,100):\n",
    "    #print (tracks[item][\"track\"][\"id\"])\n",
    "    list_of_audio_features.append(sp.audio_features(tracks_billboard[item][\"track\"][\"id\"])[0])"
   ]
  },
  {
   "cell_type": "code",
   "execution_count": 22,
   "id": "aef88e5a",
   "metadata": {},
   "outputs": [
    {
     "data": {
      "text/html": [
       "<div>\n",
       "<style scoped>\n",
       "    .dataframe tbody tr th:only-of-type {\n",
       "        vertical-align: middle;\n",
       "    }\n",
       "\n",
       "    .dataframe tbody tr th {\n",
       "        vertical-align: top;\n",
       "    }\n",
       "\n",
       "    .dataframe thead th {\n",
       "        text-align: right;\n",
       "    }\n",
       "</style>\n",
       "<table border=\"1\" class=\"dataframe\">\n",
       "  <thead>\n",
       "    <tr style=\"text-align: right;\">\n",
       "      <th></th>\n",
       "      <th>danceability</th>\n",
       "      <th>energy</th>\n",
       "      <th>loudness</th>\n",
       "      <th>speechiness</th>\n",
       "      <th>acousticness</th>\n",
       "      <th>instrumentalness</th>\n",
       "      <th>liveness</th>\n",
       "      <th>valence</th>\n",
       "      <th>tempo</th>\n",
       "      <th>id</th>\n",
       "      <th>duration_ms</th>\n",
       "    </tr>\n",
       "  </thead>\n",
       "  <tbody>\n",
       "    <tr>\n",
       "      <th>0</th>\n",
       "      <td>0.520</td>\n",
       "      <td>0.731</td>\n",
       "      <td>-5.338</td>\n",
       "      <td>0.0557</td>\n",
       "      <td>0.3420</td>\n",
       "      <td>0.001010</td>\n",
       "      <td>0.3110</td>\n",
       "      <td>0.662</td>\n",
       "      <td>173.930</td>\n",
       "      <td>4LRPiXqCikLlN15c3yImP7</td>\n",
       "      <td>167303</td>\n",
       "    </tr>\n",
       "    <tr>\n",
       "      <th>1</th>\n",
       "      <td>0.686</td>\n",
       "      <td>0.507</td>\n",
       "      <td>-7.097</td>\n",
       "      <td>0.0357</td>\n",
       "      <td>0.6260</td>\n",
       "      <td>0.000075</td>\n",
       "      <td>0.3830</td>\n",
       "      <td>0.690</td>\n",
       "      <td>168.955</td>\n",
       "      <td>5CM4UuQ9Gnd6K2YyKGPMoK</td>\n",
       "      <td>232115</td>\n",
       "    </tr>\n",
       "    <tr>\n",
       "      <th>2</th>\n",
       "      <td>0.714</td>\n",
       "      <td>0.728</td>\n",
       "      <td>-4.595</td>\n",
       "      <td>0.0468</td>\n",
       "      <td>0.2980</td>\n",
       "      <td>0.000000</td>\n",
       "      <td>0.1060</td>\n",
       "      <td>0.901</td>\n",
       "      <td>114.996</td>\n",
       "      <td>1qEmFfgcLObUfQm0j1W2CK</td>\n",
       "      <td>177955</td>\n",
       "    </tr>\n",
       "    <tr>\n",
       "      <th>3</th>\n",
       "      <td>0.768</td>\n",
       "      <td>0.714</td>\n",
       "      <td>-5.110</td>\n",
       "      <td>0.0401</td>\n",
       "      <td>0.3520</td>\n",
       "      <td>0.000000</td>\n",
       "      <td>0.1500</td>\n",
       "      <td>0.842</td>\n",
       "      <td>131.443</td>\n",
       "      <td>4h4QlmocP3IuwYEj2j14p8</td>\n",
       "      <td>163026</td>\n",
       "    </tr>\n",
       "    <tr>\n",
       "      <th>4</th>\n",
       "      <td>0.836</td>\n",
       "      <td>0.743</td>\n",
       "      <td>-6.305</td>\n",
       "      <td>0.0656</td>\n",
       "      <td>0.0995</td>\n",
       "      <td>0.000000</td>\n",
       "      <td>0.3350</td>\n",
       "      <td>0.722</td>\n",
       "      <td>108.966</td>\n",
       "      <td>1PckUlxKqWQs3RlWXVBLw3</td>\n",
       "      <td>191822</td>\n",
       "    </tr>\n",
       "    <tr>\n",
       "      <th>...</th>\n",
       "      <td>...</td>\n",
       "      <td>...</td>\n",
       "      <td>...</td>\n",
       "      <td>...</td>\n",
       "      <td>...</td>\n",
       "      <td>...</td>\n",
       "      <td>...</td>\n",
       "      <td>...</td>\n",
       "      <td>...</td>\n",
       "      <td>...</td>\n",
       "      <td>...</td>\n",
       "    </tr>\n",
       "    <tr>\n",
       "      <th>95</th>\n",
       "      <td>0.529</td>\n",
       "      <td>0.695</td>\n",
       "      <td>-6.174</td>\n",
       "      <td>0.0278</td>\n",
       "      <td>0.4880</td>\n",
       "      <td>0.000012</td>\n",
       "      <td>0.1420</td>\n",
       "      <td>0.514</td>\n",
       "      <td>139.993</td>\n",
       "      <td>6NHpyYvJyQsg2nXXzGYc2R</td>\n",
       "      <td>215572</td>\n",
       "    </tr>\n",
       "    <tr>\n",
       "      <th>96</th>\n",
       "      <td>0.520</td>\n",
       "      <td>0.751</td>\n",
       "      <td>-5.064</td>\n",
       "      <td>0.0551</td>\n",
       "      <td>0.1710</td>\n",
       "      <td>0.000007</td>\n",
       "      <td>0.0624</td>\n",
       "      <td>0.519</td>\n",
       "      <td>156.044</td>\n",
       "      <td>1tRxwf8Q0AcshfHuaD86Yt</td>\n",
       "      <td>236456</td>\n",
       "    </tr>\n",
       "    <tr>\n",
       "      <th>97</th>\n",
       "      <td>0.335</td>\n",
       "      <td>0.305</td>\n",
       "      <td>-12.661</td>\n",
       "      <td>0.0741</td>\n",
       "      <td>0.4340</td>\n",
       "      <td>0.631000</td>\n",
       "      <td>0.1010</td>\n",
       "      <td>0.215</td>\n",
       "      <td>79.001</td>\n",
       "      <td>4OmfWzukSVD140NiAIEjem</td>\n",
       "      <td>156507</td>\n",
       "    </tr>\n",
       "    <tr>\n",
       "      <th>98</th>\n",
       "      <td>0.900</td>\n",
       "      <td>0.509</td>\n",
       "      <td>-6.647</td>\n",
       "      <td>0.2570</td>\n",
       "      <td>0.1150</td>\n",
       "      <td>0.000002</td>\n",
       "      <td>0.0937</td>\n",
       "      <td>0.765</td>\n",
       "      <td>100.007</td>\n",
       "      <td>27ZZdyTSQWI7Cug2d2PkqV</td>\n",
       "      <td>99283</td>\n",
       "    </tr>\n",
       "    <tr>\n",
       "      <th>99</th>\n",
       "      <td>0.757</td>\n",
       "      <td>0.856</td>\n",
       "      <td>-4.494</td>\n",
       "      <td>0.0605</td>\n",
       "      <td>0.1920</td>\n",
       "      <td>0.000000</td>\n",
       "      <td>0.0650</td>\n",
       "      <td>0.764</td>\n",
       "      <td>127.993</td>\n",
       "      <td>3qaHzxjNtFU7QiEuhGx70x</td>\n",
       "      <td>234667</td>\n",
       "    </tr>\n",
       "  </tbody>\n",
       "</table>\n",
       "<p>100 rows × 11 columns</p>\n",
       "</div>"
      ],
      "text/plain": [
       "    danceability  energy  loudness  speechiness  acousticness  \\\n",
       "0          0.520   0.731    -5.338       0.0557        0.3420   \n",
       "1          0.686   0.507    -7.097       0.0357        0.6260   \n",
       "2          0.714   0.728    -4.595       0.0468        0.2980   \n",
       "3          0.768   0.714    -5.110       0.0401        0.3520   \n",
       "4          0.836   0.743    -6.305       0.0656        0.0995   \n",
       "..           ...     ...       ...          ...           ...   \n",
       "95         0.529   0.695    -6.174       0.0278        0.4880   \n",
       "96         0.520   0.751    -5.064       0.0551        0.1710   \n",
       "97         0.335   0.305   -12.661       0.0741        0.4340   \n",
       "98         0.900   0.509    -6.647       0.2570        0.1150   \n",
       "99         0.757   0.856    -4.494       0.0605        0.1920   \n",
       "\n",
       "    instrumentalness  liveness  valence    tempo                      id  \\\n",
       "0           0.001010    0.3110    0.662  173.930  4LRPiXqCikLlN15c3yImP7   \n",
       "1           0.000075    0.3830    0.690  168.955  5CM4UuQ9Gnd6K2YyKGPMoK   \n",
       "2           0.000000    0.1060    0.901  114.996  1qEmFfgcLObUfQm0j1W2CK   \n",
       "3           0.000000    0.1500    0.842  131.443  4h4QlmocP3IuwYEj2j14p8   \n",
       "4           0.000000    0.3350    0.722  108.966  1PckUlxKqWQs3RlWXVBLw3   \n",
       "..               ...       ...      ...      ...                     ...   \n",
       "95          0.000012    0.1420    0.514  139.993  6NHpyYvJyQsg2nXXzGYc2R   \n",
       "96          0.000007    0.0624    0.519  156.044  1tRxwf8Q0AcshfHuaD86Yt   \n",
       "97          0.631000    0.1010    0.215   79.001  4OmfWzukSVD140NiAIEjem   \n",
       "98          0.000002    0.0937    0.765  100.007  27ZZdyTSQWI7Cug2d2PkqV   \n",
       "99          0.000000    0.0650    0.764  127.993  3qaHzxjNtFU7QiEuhGx70x   \n",
       "\n",
       "    duration_ms  \n",
       "0        167303  \n",
       "1        232115  \n",
       "2        177955  \n",
       "3        163026  \n",
       "4        191822  \n",
       "..          ...  \n",
       "95       215572  \n",
       "96       236456  \n",
       "97       156507  \n",
       "98        99283  \n",
       "99       234667  \n",
       "\n",
       "[100 rows x 11 columns]"
      ]
     },
     "execution_count": 22,
     "metadata": {},
     "output_type": "execute_result"
    }
   ],
   "source": [
    "df=pd.DataFrame(list_of_audio_features)    \n",
    "df=df[[\"danceability\",\"energy\",\"loudness\",\"speechiness\",\"acousticness\",\n",
    "    \"instrumentalness\",\"liveness\",\"valence\",\"tempo\",\"id\",\"duration_ms\"]]\n",
    "\n",
    "df"
   ]
  },
  {
   "cell_type": "code",
   "execution_count": 23,
   "id": "dfbc0ccb",
   "metadata": {},
   "outputs": [],
   "source": [
    "df.to_csv('/Users/irenewalken/Documents/GitHub/Song-recommender/spotify_billboard_top_100.csv')"
   ]
  },
  {
   "cell_type": "code",
   "execution_count": null,
   "id": "b55081f2",
   "metadata": {},
   "outputs": [],
   "source": []
  }
 ],
 "metadata": {
  "kernelspec": {
   "display_name": "Python 3 (ipykernel)",
   "language": "python",
   "name": "python3"
  },
  "language_info": {
   "codemirror_mode": {
    "name": "ipython",
    "version": 3
   },
   "file_extension": ".py",
   "mimetype": "text/x-python",
   "name": "python",
   "nbconvert_exporter": "python",
   "pygments_lexer": "ipython3",
   "version": "3.9.12"
  },
  "toc": {
   "base_numbering": 1,
   "nav_menu": {},
   "number_sections": true,
   "sideBar": true,
   "skip_h1_title": false,
   "title_cell": "Table of Contents",
   "title_sidebar": "Contents",
   "toc_cell": false,
   "toc_position": {},
   "toc_section_display": true,
   "toc_window_display": false
  }
 },
 "nbformat": 4,
 "nbformat_minor": 5
}
